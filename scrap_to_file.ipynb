{
 "cells": [
  {
   "cell_type": "code",
   "execution_count": 2,
   "metadata": {},
   "outputs": [],
   "source": [
    "import os\n",
    "import re\n",
    "from bs4 import *\n",
    "import requests"
   ]
  },
  {
   "cell_type": "code",
   "execution_count": 8,
   "metadata": {},
   "outputs": [],
   "source": [
    "url_site = []\n",
    "for i in range(1,329):\n",
    "   url_u = \"http://www.yoursite.com/page={}?\".format(i)\n",
    "   url_site.append(url_u)\n"
   ]
  },
  {
   "cell_type": "code",
   "execution_count": 9,
   "metadata": {},
   "outputs": [],
   "source": [
    "def make_soup(url):\n",
    "    response = requests.get(url)\n",
    "    html = response.text\n",
    "    return BeautifulSoup(html, 'html.parser')\n",
    "\n",
    "def get_article(url):\n",
    "    list_article = []\n",
    "    thefile = open('articles.txt', 'a+')\n",
    "    soup = make_soup(url)\n",
    "    list_div_article = soup.find('body')\n",
    "    for div in list_div_article.findAll('div', {'class' : 'col-lg-4 col-sm-6 col-xs-12'}):\n",
    "        for article in div.findAll('div', {'class' : 'news__content'}):\n",
    "            for title in article.find('a', {'class' : 'news__title'}):\n",
    "                list_article.append(title)\n",
    "            for text in article.findAll('section'):\n",
    "                list_article.append(text.text)\n",
    "    for words in list_article:\n",
    "        words_split = words.split()\n",
    "        thefile.write(str(words_split))"
   ]
  },
  {
   "cell_type": "code",
   "execution_count": null,
   "metadata": {},
   "outputs": [],
   "source": [
    "for url in url_site:\n",
    "    get_article(url)"
   ]
  }
 ],
 "metadata": {
  "kernelspec": {
   "display_name": "Python 3",
   "language": "python",
   "name": "python3"
  },
  "language_info": {
   "codemirror_mode": {
    "name": "ipython",
    "version": 3
   },
   "file_extension": ".py",
   "mimetype": "text/x-python",
   "name": "python",
   "nbconvert_exporter": "python",
   "pygments_lexer": "ipython3",
   "version": "3.6.3"
  }
 },
 "nbformat": 4,
 "nbformat_minor": 2
}
