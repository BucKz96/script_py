{
 "cells": [
  {
   "cell_type": "code",
   "execution_count": null,
   "metadata": {
    "collapsed": true
   },
   "outputs": [],
   "source": [
    "import os\n",
    "import re\n",
    "from bs4 import *\n",
    "import requests"
   ]
  },
  {
   "cell_type": "code",
   "execution_count": 167,
   "metadata": {},
   "outputs": [],
   "source": [
    "global url_weed\n",
    "url_weed = []\n",
    "for i in range(1,329):\n",
    "   url_u = 'https://www.cannaweed.com/actualites/?page={}'.format(i)\n",
    "   url_weed.append(url_u)\n"
   ]
  },
  {
   "cell_type": "code",
   "execution_count": 184,
   "metadata": {},
   "outputs": [],
   "source": [
    "def make_soup(url):\n",
    "    response = requests.get(url)\n",
    "    html = response.text\n",
    "    return BeautifulSoup(html, 'html.parser')\n",
    "\n",
    "def get_title(url):\n",
    "    global list_title\n",
    "    global thefile\n",
    "    list_title = []\n",
    "    thefile = open('weed.txt', 'a+')\n",
    "    soup = make_soup(url)\n",
    "    div_list_title = soup.find('body')\n",
    "    for div in div_list_title.findAll('div', {'class' : 'col-lg-4 col-sm-6 col-xs-12'}):\n",
    "        for article in div.findAll('div', {'class' : 'news__content'}):\n",
    "            for a in article.find('a', {'class' : 'news__title'}):\n",
    "                list_title.append(a)\n",
    "    for words in list_title:\n",
    "        words_split = words.split()\n",
    "        thefile.write(str(words_split))            "
   ]
  },
  {
   "cell_type": "code",
   "execution_count": 185,
   "metadata": {},
   "outputs": [],
   "source": [
    "for url in url_weed:\n",
    "    get_title(url)\n",
    "    "
   ]
  }
 ],
 "metadata": {
  "kernelspec": {
   "display_name": "Python 3",
   "language": "python",
   "name": "python3"
  },
  "language_info": {
   "codemirror_mode": {
    "name": "ipython",
    "version": 3
   },
   "file_extension": ".py",
   "mimetype": "text/x-python",
   "name": "python",
   "nbconvert_exporter": "python",
   "pygments_lexer": "ipython3",
   "version": "3.6.3"
  }
 },
 "nbformat": 4,
 "nbformat_minor": 2
}
